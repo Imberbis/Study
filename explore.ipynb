{
 "cells": [
  {
   "cell_type": "code",
   "execution_count": 30,
   "metadata": {},
   "outputs": [
    {
     "name": "stdout",
     "output_type": "stream",
     "text": [
      "7 [33, 15, 64, 69, 94, 41, 95]\n",
      "\n"
     ]
    },
    {
     "data": {
      "text/plain": [
       "[33, 15, 64, 69, 94, 41, 95]"
      ]
     },
     "execution_count": 30,
     "metadata": {},
     "output_type": "execute_result"
    }
   ],
   "source": [
    "def quicksort(list_: list, head_start=None, tail_start=None) -> list:\n",
    "    def swap(list_, id1=False, id2=False):\n",
    "        list_[id1], list_[id2] = list_[id2], list_[id1]\n",
    "\n",
    "    # print('got positions', head_start, tail_start)\n",
    "\n",
    "    # Prepare\n",
    "    if head_start is None:\n",
    "        head_start = 0\n",
    "    if tail_start is None:\n",
    "        tail_start = len(list_) - 1\n",
    "\n",
    "    length = tail_start - head_start + 1\n",
    "\n",
    "    # Recursion break\n",
    "    if length < 2:\n",
    "        # print('break')\n",
    "        return\n",
    "    if length == 2:\n",
    "        if list_[head_start] > list_[tail_start]:\n",
    "            swap(list_, head_start, tail_start)\n",
    "        # print('swap and break', list_)\n",
    "        return\n",
    "\n",
    "    # Main body\n",
    "    head_pointer = head_start\n",
    "    tail_pointer = tail_start - 1\n",
    "    base_pointer = tail_start\n",
    "\n",
    "    base = list_[base_pointer]\n",
    "\n",
    "\n",
    "    while head_pointer < tail_pointer:\n",
    "\n",
    "        # print('    pointers', head_pointer, tail_pointer, base_pointer, end='')\n",
    "\n",
    "        if list_[head_pointer] < base:\n",
    "            head_pointer += 1\n",
    "            # print('    move head')\n",
    "        elif list_[tail_pointer] >= base:\n",
    "            tail_pointer -= 1\n",
    "            # print('    move tail')\n",
    "        else:\n",
    "            swap(list_, head_pointer, tail_pointer)\n",
    "            # head_pointer += 1\n",
    "            # tail_pointer -= 1\n",
    "            # print('    swap', list_)\n",
    "    \n",
    "    if list_[head_pointer] > list_[base_pointer]:\n",
    "        swap(list_, head_pointer, base_pointer)\n",
    "\n",
    "\n",
    "    # Recursion\n",
    "    quicksort(list_, head_start=head_start, tail_start=head_pointer-1) # smaller\n",
    "    quicksort(list_, head_start=head_pointer + 1, tail_start=tail_start) # greater\n",
    "        \n",
    "\n",
    "\n",
    "l = [33, 15, 64, 69, 94, 41, 95]\n",
    "print(len(l), l)\n",
    "print()\n",
    "\n",
    "quicksort(l)\n",
    "l\n"
   ]
  },
  {
   "cell_type": "code",
   "execution_count": 39,
   "metadata": {},
   "outputs": [],
   "source": [
    "from statistics import median\n",
    "from random import sample"
   ]
  },
  {
   "cell_type": "code",
   "execution_count": 57,
   "metadata": {},
   "outputs": [
    {
     "data": {
      "text/plain": [
       "[9, 4, 7]"
      ]
     },
     "execution_count": 57,
     "metadata": {},
     "output_type": "execute_result"
    }
   ],
   "source": [
    "sample(list(range(10)), 3)"
   ]
  },
  {
   "cell_type": "code",
   "execution_count": 61,
   "metadata": {},
   "outputs": [],
   "source": [
    "def swap(list_, index_1:int, index_2:int):\n",
    "    list_[index_1], list_[index_2] = list_[index_2], list_[index_1]\n",
    "\n",
    "def partition(list_:list, head:int, tail:int):\n",
    "    pivot = list_[(head + tail) // 2]\n",
    "    i, j = head, tail\n",
    "\n",
    "    while i >= j:\n",
    "        while (list_[i] < pivot):\n",
    "            i += 1\n",
    "        while (list_[j] >= pivot):\n",
    "            j -= 1\n",
    "        if i >= j:\n",
    "            break\n",
    "    swap(list_, i, j)\n",
    "    return j"
   ]
  },
  {
   "cell_type": "code",
   "execution_count": 63,
   "metadata": {},
   "outputs": [
    {
     "name": "stdout",
     "output_type": "stream",
     "text": [
      "69 [95, 15, 64, 69, 94, 41, 33]\n"
     ]
    }
   ],
   "source": [
    "list_ = [33, 15, 64, 69, 94, 41, 95]\n",
    "head = 0\n",
    "tail = len(list_) - 1\n",
    "partition(list_, head, tail)\n",
    "print(list_[(head + tail) // 2], list_)"
   ]
  },
  {
   "cell_type": "code",
   "execution_count": 33,
   "metadata": {},
   "outputs": [
    {
     "name": "stdout",
     "output_type": "stream",
     "text": [
      "[10, 29, 57, 34, 47, 25, 64]\n",
      "[10, 29, 34, 47, 57, 25, 64]\n",
      "[10, 25, 29, 34, 47, 57, 64]\n",
      "\n",
      "[18, 95, 14, 52, 7, 37, 18]\n",
      "[7, 14, 18, 18, 52, 37, 95]\n",
      "[7, 14, 18, 18, 37, 52, 95]\n",
      "\n"
     ]
    }
   ],
   "source": [
    "from random import random\n",
    "\n",
    "for _ in range(10):\n",
    "    list_ = [int(random() * 100) for _ in range(7)]\n",
    "    l = list_.copy()\n",
    "    quicksort(list_)\n",
    "    if list_ != sorted(list_):\n",
    "        print(l)\n",
    "        print(list_)\n",
    "        print(sorted(list_))\n",
    "        print()"
   ]
  }
 ],
 "metadata": {
  "kernelspec": {
   "display_name": "Python 3.9.12 ('base')",
   "language": "python",
   "name": "python3"
  },
  "language_info": {
   "codemirror_mode": {
    "name": "ipython",
    "version": 3
   },
   "file_extension": ".py",
   "mimetype": "text/x-python",
   "name": "python",
   "nbconvert_exporter": "python",
   "pygments_lexer": "ipython3",
   "version": "3.9.12"
  },
  "orig_nbformat": 4,
  "vscode": {
   "interpreter": {
    "hash": "9715f4b88b6f7789048b33fe7556c17d803081ca2d3beaeba11fa35876a62264"
   }
  }
 },
 "nbformat": 4,
 "nbformat_minor": 2
}
